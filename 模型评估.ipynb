{
 "cells": [
  {
   "cell_type": "code",
   "execution_count": 1,
   "metadata": {
    "ExecuteTime": {
     "end_time": "2022-09-04T11:35:34.516577Z",
     "start_time": "2022-09-04T11:35:32.716942Z"
    }
   },
   "outputs": [],
   "source": [
    "import pandas as pd\n",
    "import numpy as np\n",
    "from sklearn import metrics"
   ]
  },
  {
   "cell_type": "code",
   "execution_count": 2,
   "metadata": {
    "ExecuteTime": {
     "end_time": "2022-09-04T11:35:34.532639Z",
     "start_time": "2022-09-04T11:35:34.518579Z"
    }
   },
   "outputs": [],
   "source": [
    "wb =pd.read_csv(\"D:\\\\PredictionResultv2.csv\")"
   ]
  },
  {
   "cell_type": "code",
   "execution_count": 3,
   "metadata": {
    "ExecuteTime": {
     "end_time": "2022-09-04T11:35:34.548395Z",
     "start_time": "2022-09-04T11:35:34.535639Z"
    }
   },
   "outputs": [],
   "source": [
    "dataMat=np.array(wb)"
   ]
  },
  {
   "cell_type": "code",
   "execution_count": 4,
   "metadata": {
    "ExecuteTime": {
     "end_time": "2022-09-04T11:35:34.580387Z",
     "start_time": "2022-09-04T11:35:34.550393Z"
    }
   },
   "outputs": [
    {
     "data": {
      "text/plain": [
       "array([['A0001', 'A', 'B', 0.2147, 0.7853],\n",
       "       ['A0002', 'A', 'B', 0.4736, 0.5264],\n",
       "       ['A0003', 'A', 'B', 0.3018, 0.6982],\n",
       "       ...,\n",
       "       ['A0248', 'A', 'B', 0.3149, 0.6851],\n",
       "       ['A0249', 'B', 'B', 0.2375, 0.7625],\n",
       "       ['A0250', 'A', 'A', 0.7749, 0.2251]], dtype=object)"
      ]
     },
     "execution_count": 4,
     "metadata": {},
     "output_type": "execute_result"
    }
   ],
   "source": [
    "dataMat"
   ]
  },
  {
   "cell_type": "code",
   "execution_count": 5,
   "metadata": {
    "ExecuteTime": {
     "end_time": "2022-09-04T11:35:34.596392Z",
     "start_time": "2022-09-04T11:35:34.583391Z"
    }
   },
   "outputs": [],
   "source": [
    "y_true=dataMat[:,1:2]\n",
    "y_pred=dataMat[:,2:3]"
   ]
  },
  {
   "cell_type": "code",
   "execution_count": 6,
   "metadata": {
    "ExecuteTime": {
     "end_time": "2022-09-04T11:35:34.612397Z",
     "start_time": "2022-09-04T11:35:34.600397Z"
    }
   },
   "outputs": [
    {
     "data": {
      "text/plain": [
       "(250, 1)"
      ]
     },
     "execution_count": 6,
     "metadata": {},
     "output_type": "execute_result"
    }
   ],
   "source": [
    "y_true.shape"
   ]
  },
  {
   "cell_type": "code",
   "execution_count": 7,
   "metadata": {
    "ExecuteTime": {
     "end_time": "2022-09-04T11:35:34.627395Z",
     "start_time": "2022-09-04T11:35:34.615396Z"
    }
   },
   "outputs": [
    {
     "data": {
      "text/plain": [
       "(250, 1)"
      ]
     },
     "execution_count": 7,
     "metadata": {},
     "output_type": "execute_result"
    }
   ],
   "source": [
    "y_pred.shape"
   ]
  },
  {
   "cell_type": "code",
   "execution_count": 8,
   "metadata": {
    "ExecuteTime": {
     "end_time": "2022-09-04T11:35:34.643387Z",
     "start_time": "2022-09-04T11:35:34.632391Z"
    }
   },
   "outputs": [
    {
     "data": {
      "text/plain": [
       "numpy.ndarray"
      ]
     },
     "execution_count": 8,
     "metadata": {},
     "output_type": "execute_result"
    }
   ],
   "source": [
    "type(y_true)"
   ]
  },
  {
   "cell_type": "code",
   "execution_count": 9,
   "metadata": {
    "ExecuteTime": {
     "end_time": "2022-09-04T11:35:34.659149Z",
     "start_time": "2022-09-04T11:35:34.646154Z"
    }
   },
   "outputs": [],
   "source": [
    "#metrics.confusion_matrix(y_true, y_pred)"
   ]
  },
  {
   "cell_type": "code",
   "execution_count": 10,
   "metadata": {
    "ExecuteTime": {
     "end_time": "2022-09-04T11:35:34.675149Z",
     "start_time": "2022-09-04T11:35:34.661153Z"
    }
   },
   "outputs": [
    {
     "data": {
      "text/plain": [
       "0.656"
      ]
     },
     "execution_count": 10,
     "metadata": {},
     "output_type": "execute_result"
    }
   ],
   "source": [
    "metrics.accuracy_score(y_true, y_pred)"
   ]
  },
  {
   "cell_type": "code",
   "execution_count": 11,
   "metadata": {
    "ExecuteTime": {
     "end_time": "2022-09-04T11:35:34.690525Z",
     "start_time": "2022-09-04T11:35:34.678261Z"
    }
   },
   "outputs": [
    {
     "data": {
      "text/plain": [
       "0.788135593220339"
      ]
     },
     "execution_count": 11,
     "metadata": {},
     "output_type": "execute_result"
    }
   ],
   "source": [
    "metrics.precision_score(y_true,y_pred,pos_label='A')"
   ]
  },
  {
   "cell_type": "code",
   "execution_count": 12,
   "metadata": {
    "ExecuteTime": {
     "end_time": "2022-09-04T11:35:34.705769Z",
     "start_time": "2022-09-04T11:35:34.693525Z"
    }
   },
   "outputs": [
    {
     "data": {
      "text/plain": [
       "0.6038961038961039"
      ]
     },
     "execution_count": 12,
     "metadata": {},
     "output_type": "execute_result"
    }
   ],
   "source": [
    "metrics.recall_score(y_true,y_pred,pos_label='A')"
   ]
  },
  {
   "cell_type": "code",
   "execution_count": 13,
   "metadata": {
    "ExecuteTime": {
     "end_time": "2022-09-04T11:35:34.721885Z",
     "start_time": "2022-09-04T11:35:34.709766Z"
    }
   },
   "outputs": [
    {
     "data": {
      "text/plain": [
       "0.6838235294117647"
      ]
     },
     "execution_count": 13,
     "metadata": {},
     "output_type": "execute_result"
    }
   ],
   "source": [
    "metrics.f1_score(y_true,y_pred,pos_label='A')"
   ]
  },
  {
   "cell_type": "code",
   "execution_count": 14,
   "metadata": {
    "ExecuteTime": {
     "end_time": "2022-09-04T11:35:34.737287Z",
     "start_time": "2022-09-04T11:35:34.724886Z"
    }
   },
   "outputs": [],
   "source": [
    "y_score=dataMat[:,3:4]"
   ]
  },
  {
   "cell_type": "code",
   "execution_count": 15,
   "metadata": {
    "ExecuteTime": {
     "end_time": "2022-09-04T11:35:34.745729Z",
     "start_time": "2022-09-04T11:35:34.740286Z"
    }
   },
   "outputs": [],
   "source": [
    "fpr,tpr,threshold=metrics.roc_curve(y_true,y_score,pos_label='A')"
   ]
  },
  {
   "cell_type": "code",
   "execution_count": 16,
   "metadata": {
    "ExecuteTime": {
     "end_time": "2022-09-04T11:35:35.666031Z",
     "start_time": "2022-09-04T11:35:34.750267Z"
    }
   },
   "outputs": [
    {
     "data": {
      "text/plain": [
       "<Figure size 640x480 with 1 Axes>"
      ]
     },
     "metadata": {},
     "output_type": "display_data"
    }
   ],
   "source": [
    "import matplotlib.pyplot as plt\n",
    "plt.figure()\n",
    "plt.plot(fpr,tpr)\n",
    "plt.title('ROC')\n",
    "plt.show()"
   ]
  },
  {
   "cell_type": "code",
   "execution_count": 17,
   "metadata": {
    "ExecuteTime": {
     "end_time": "2022-09-04T11:35:35.682032Z",
     "start_time": "2022-09-04T11:35:35.668032Z"
    }
   },
   "outputs": [
    {
     "data": {
      "text/plain": [
       "0.8106060606060606"
      ]
     },
     "execution_count": 17,
     "metadata": {},
     "output_type": "execute_result"
    }
   ],
   "source": [
    "metrics.auc(fpr,tpr)"
   ]
  }
 ],
 "metadata": {
  "kernelspec": {
   "display_name": "Python 3",
   "language": "python",
   "name": "python3"
  },
  "language_info": {
   "codemirror_mode": {
    "name": "ipython",
    "version": 3
   },
   "file_extension": ".py",
   "mimetype": "text/x-python",
   "name": "python",
   "nbconvert_exporter": "python",
   "pygments_lexer": "ipython3",
   "version": "3.7.0"
  }
 },
 "nbformat": 4,
 "nbformat_minor": 2
}
