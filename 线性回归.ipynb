{
 "cells": [
  {
   "cell_type": "code",
   "execution_count": 1,
   "metadata": {},
   "outputs": [],
   "source": [
    "import numpy as np#"
   ]
  },
  {
   "cell_type": "code",
   "execution_count": 2,
   "metadata": {},
   "outputs": [],
   "source": [
    "import matplotlib.pyplot as plt#2D图形绘图库"
   ]
  },
  {
   "cell_type": "code",
   "execution_count": 3,
   "metadata": {},
   "outputs": [],
   "source": [
    "from sklearn.linear_model import LinearRegression#广义线性模型"
   ]
  },
  {
   "cell_type": "code",
   "execution_count": 4,
   "metadata": {},
   "outputs": [],
   "source": [
    "data=[\n",
    "    [0.067732,3.176513],[0.427810,3.816464],[0.995731,4.550095],[0.738336,4.256571],\n",
    "    [0.981083,4.560815],[0.526171,3.929515],[0.378887,3.526170],[0.033859,3.156393],\n",
    "    [0.132791,3.110301],[0.138306,3.149813],[0.247809,3.476346],[0.648270,4.119688],\n",
    "    [0.731209,4.282233],[0.236833,3.486582],[0.969788,4.655492],[0.607492,3.965162],\n",
    "    [0.358622,3.514900],[0.147846,3.125947],[0.637820,4.094115],[0.230372,3.476039],\n",
    "    [0.070237,3.210610],[0.067154,3.190612],[0.925577,4.631504],[0.717733,4.295890],\n",
    "    [0.015371,3.085028],[0.335070,3.448080],[0.040486,3.167440],[0.212575,3.364266],\n",
    "    [0.617218,3.993482],[0.541196,3.891471]\n",
    "    ]"
   ]
  },
  {
   "cell_type": "code",
   "execution_count": 5,
   "metadata": {},
   "outputs": [
    {
     "data": {
      "text/plain": [
       "array([[0.067732, 3.176513],\n",
       "       [0.42781 , 3.816464],\n",
       "       [0.995731, 4.550095],\n",
       "       [0.738336, 4.256571],\n",
       "       [0.981083, 4.560815],\n",
       "       [0.526171, 3.929515],\n",
       "       [0.378887, 3.52617 ],\n",
       "       [0.033859, 3.156393],\n",
       "       [0.132791, 3.110301],\n",
       "       [0.138306, 3.149813],\n",
       "       [0.247809, 3.476346],\n",
       "       [0.64827 , 4.119688],\n",
       "       [0.731209, 4.282233],\n",
       "       [0.236833, 3.486582],\n",
       "       [0.969788, 4.655492],\n",
       "       [0.607492, 3.965162],\n",
       "       [0.358622, 3.5149  ],\n",
       "       [0.147846, 3.125947],\n",
       "       [0.63782 , 4.094115],\n",
       "       [0.230372, 3.476039],\n",
       "       [0.070237, 3.21061 ],\n",
       "       [0.067154, 3.190612],\n",
       "       [0.925577, 4.631504],\n",
       "       [0.717733, 4.29589 ],\n",
       "       [0.015371, 3.085028],\n",
       "       [0.33507 , 3.44808 ],\n",
       "       [0.040486, 3.16744 ],\n",
       "       [0.212575, 3.364266],\n",
       "       [0.617218, 3.993482],\n",
       "       [0.541196, 3.891471]])"
      ]
     },
     "execution_count": 5,
     "metadata": {},
     "output_type": "execute_result"
    }
   ],
   "source": [
    "dataMat=np.array(data)\n",
    "dataMat"
   ]
  },
  {
   "cell_type": "code",
   "execution_count": 6,
   "metadata": {},
   "outputs": [
    {
     "data": {
      "text/plain": [
       "array([[0.067732],\n",
       "       [0.42781 ],\n",
       "       [0.995731],\n",
       "       [0.738336],\n",
       "       [0.981083],\n",
       "       [0.526171],\n",
       "       [0.378887],\n",
       "       [0.033859],\n",
       "       [0.132791],\n",
       "       [0.138306],\n",
       "       [0.247809],\n",
       "       [0.64827 ],\n",
       "       [0.731209],\n",
       "       [0.236833],\n",
       "       [0.969788],\n",
       "       [0.607492],\n",
       "       [0.358622],\n",
       "       [0.147846],\n",
       "       [0.63782 ],\n",
       "       [0.230372],\n",
       "       [0.070237],\n",
       "       [0.067154],\n",
       "       [0.925577],\n",
       "       [0.717733],\n",
       "       [0.015371],\n",
       "       [0.33507 ],\n",
       "       [0.040486],\n",
       "       [0.212575],\n",
       "       [0.617218],\n",
       "       [0.541196]])"
      ]
     },
     "execution_count": 6,
     "metadata": {},
     "output_type": "execute_result"
    }
   ],
   "source": [
    "X=dataMat[:,0:1]\n",
    "X"
   ]
  },
  {
   "cell_type": "code",
   "execution_count": 7,
   "metadata": {},
   "outputs": [
    {
     "data": {
      "text/plain": [
       "array([3.176513, 3.816464, 4.550095, 4.256571, 4.560815, 3.929515,\n",
       "       3.52617 , 3.156393, 3.110301, 3.149813, 3.476346, 4.119688,\n",
       "       4.282233, 3.486582, 4.655492, 3.965162, 3.5149  , 3.125947,\n",
       "       4.094115, 3.476039, 3.21061 , 3.190612, 4.631504, 4.29589 ,\n",
       "       3.085028, 3.44808 , 3.16744 , 3.364266, 3.993482, 3.891471])"
      ]
     },
     "execution_count": 7,
     "metadata": {},
     "output_type": "execute_result"
    }
   ],
   "source": [
    "Y=dataMat[:,1]\n",
    "Y"
   ]
  },
  {
   "cell_type": "code",
   "execution_count": 8,
   "metadata": {},
   "outputs": [],
   "source": [
    "model=LinearRegression(copy_X=True,fit_intercept=True,n_jobs=1,normalize=False)\n",
    "#有截距，将数据归一"
   ]
  },
  {
   "cell_type": "code",
   "execution_count": 9,
   "metadata": {},
   "outputs": [
    {
     "data": {
      "text/plain": [
       "LinearRegression(copy_X=True, fit_intercept=True, n_jobs=1, normalize=False)"
      ]
     },
     "execution_count": 9,
     "metadata": {},
     "output_type": "execute_result"
    }
   ],
   "source": [
    "model.fit(X,Y)"
   ]
  },
  {
   "cell_type": "code",
   "execution_count": 12,
   "metadata": {},
   "outputs": [
    {
     "name": "stdout",
     "output_type": "stream",
     "text": [
      "斜率： [1.6314263]\n",
      "截距： 3.028630460428157\n",
      "测试值: [3.76880857]\n"
     ]
    }
   ],
   "source": [
    "print(\"斜率：\",model.coef_)\n",
    "w=model.coef_[0]\n",
    "print(\"截距：\",model.intercept_)\n",
    "b=model.intercept_\n",
    "x_test=[[0.4537]]\n",
    "predict=model.predict(x_test)\n",
    "predicted=model.predict(X)\n",
    "print(\"测试值:\",predict)"
   ]
  },
  {
   "cell_type": "code",
   "execution_count": 15,
   "metadata": {},
   "outputs": [
    {
     "data": {
      "image/png": "[encoded data removed]",
      "text/plain": [
       "<Figure size 432x288 with 1 Axes>"
      ]
     },
     "metadata": {
      "needs_background": "light"
     },
     "output_type": "display_data"
    }
   ],
   "source": [
    "plt.scatter(X,Y,marker='o')\n",
    "plt.plot(X,predicted,c='r')\n",
    "plt.xlabel('X')\n",
    "plt.ylabel('Y')\n",
    "plt.show()"
   ]
  },
  {
   "cell_type": "code",
   "execution_count": 61,
   "metadata": {},
   "outputs": [],
   "source": [
    "from mpl_toolkits.mplot3d import Axes3D#Python三维画图"
   ]
  },
  {
   "cell_type": "code",
   "execution_count": 62,
   "metadata": {},
   "outputs": [],
   "source": [
    "x_data = np.array( [[100, 4],[ 50, 1],[100, 4],[100, 3],\n",
    "                    [ 50, 2],[ 80, 2],[ 75, 3],[ 65, 4],[ 90, 3],[ 90, 2]])"
   ]
  },
  {
   "cell_type": "code",
   "execution_count": 63,
   "metadata": {},
   "outputs": [
    {
     "data": {
      "text/plain": [
       "array([[100,   4],\n",
       "       [ 50,   1],\n",
       "       [100,   4],\n",
       "       [100,   3],\n",
       "       [ 50,   2],\n",
       "       [ 80,   2],\n",
       "       [ 75,   3],\n",
       "       [ 65,   4],\n",
       "       [ 90,   3],\n",
       "       [ 90,   2]])"
      ]
     },
     "execution_count": 63,
     "metadata": {},
     "output_type": "execute_result"
    }
   ],
   "source": [
    "x_data"
   ]
  },
  {
   "cell_type": "code",
   "execution_count": 64,
   "metadata": {},
   "outputs": [],
   "source": [
    "y_data = np.array([9.3, 4.8, 8.9, 6.5, 4.2, 6.2, 7.4, 6.0,  7.6, 6.1])"
   ]
  },
  {
   "cell_type": "code",
   "execution_count": 65,
   "metadata": {},
   "outputs": [
    {
     "data": {
      "text/plain": [
       "array([9.3, 4.8, 8.9, 6.5, 4.2, 6.2, 7.4, 6. , 7.6, 6.1])"
      ]
     },
     "execution_count": 65,
     "metadata": {},
     "output_type": "execute_result"
    }
   ],
   "source": [
    "y_data "
   ]
  },
  {
   "cell_type": "code",
   "execution_count": 66,
   "metadata": {},
   "outputs": [],
   "source": [
    "#建立模型\n",
    "model=LinearRegression()"
   ]
  },
  {
   "cell_type": "code",
   "execution_count": 70,
   "metadata": {},
   "outputs": [
    {
     "data": {
      "text/plain": [
       "LinearRegression(copy_X=True, fit_intercept=True, n_jobs=1, normalize=False)"
      ]
     },
     "execution_count": 70,
     "metadata": {},
     "output_type": "execute_result"
    }
   ],
   "source": [
    "#开始训练\n",
    "model.fit(x_data,y_data )"
   ]
  },
  {
   "cell_type": "code",
   "execution_count": 71,
   "metadata": {},
   "outputs": [
    {
     "name": "stdout",
     "output_type": "stream",
     "text": [
      "斜率： [0.04701969 0.68363883]\n",
      "截距： 1.02423625254582\n",
      "测试值： [7.30692464]\n"
     ]
    }
   ],
   "source": [
    "print(\"斜率：\",model.coef_)\n",
    "w1=model.coef_[0]\n",
    "w2=model.coef_[1]\n",
    "print(\"截距：\",model.intercept_)\n",
    "b=model.intercept_\n",
    "x_test=[[90,3]]\n",
    "predicted=model.predict(x_test)\n",
    "print(\"测试值：\",predict)"
   ]
  },
  {
   "cell_type": "code",
   "execution_count": 72,
   "metadata": {},
   "outputs": [
    {
     "data": {
      "image/png": "[encoded data removed]",
      "text/plain": [
       "<Figure size 432x288 with 1 Axes>"
      ]
     },
     "metadata": {
      "needs_background": "light"
     },
     "output_type": "display_data"
    }
   ],
   "source": [
    "ax=plt.figure().add_subplot(111,projection=\"3d\")\n",
    "ax.scatter(x_data[:,0],x_data[:,1],y_data,c='b',marker='o',s=50)\n",
    "x0=x_data[:,0]\n",
    "x1=x_data[:,1]\n",
    "x0,x1=np.meshgrid(x0,x1)\n",
    "z=b+w1*x0+w2*x1\n",
    "ax.plot_surface(x0,x1,z,color='r')\n",
    "ax.set_xlabel(\"area\")\n",
    "ax.set_ylabel(\"num_rooms\")\n",
    "ax.set_zlabel(\"price\")\n",
    "plt.show()"
   ]
  },
  {
   "cell_type": "code",
   "execution_count": null,
   "metadata": {},
   "outputs": [],
   "source": []
  }
 ],
 "metadata": {
  "kernelspec": {
   "display_name": "Python 3",
   "language": "python",
   "name": "python3"
  },
  "language_info": {
   "codemirror_mode": {
    "name": "ipython",
    "version": 3
   },
   "file_extension": ".py",
   "mimetype": "text/x-python",
   "name": "python",
   "nbconvert_exporter": "python",
   "pygments_lexer": "ipython3",
   "version": "3.7.0"
  }
 },
 "nbformat": 4,
 "nbformat_minor": 2
}
